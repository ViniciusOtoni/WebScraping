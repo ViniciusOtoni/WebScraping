{
 "cells": [
  {
   "cell_type": "code",
   "execution_count": 162,
   "metadata": {},
   "outputs": [],
   "source": [
    "import pandas as pd\n",
    "import re"
   ]
  },
  {
   "cell_type": "code",
   "execution_count": 163,
   "metadata": {},
   "outputs": [],
   "source": [
    "df = pd.read_csv(\"../data/d01_raw/books_data.csv\")"
   ]
  },
  {
   "cell_type": "code",
   "execution_count": 164,
   "metadata": {},
   "outputs": [
    {
     "data": {
      "text/html": [
       "<div>\n",
       "<style scoped>\n",
       "    .dataframe tbody tr th:only-of-type {\n",
       "        vertical-align: middle;\n",
       "    }\n",
       "\n",
       "    .dataframe tbody tr th {\n",
       "        vertical-align: top;\n",
       "    }\n",
       "\n",
       "    .dataframe thead th {\n",
       "        text-align: right;\n",
       "    }\n",
       "</style>\n",
       "<table border=\"1\" class=\"dataframe\">\n",
       "  <thead>\n",
       "    <tr style=\"text-align: right;\">\n",
       "      <th></th>\n",
       "      <th>Book_Title</th>\n",
       "      <th>Book_Category</th>\n",
       "      <th>Book_Price</th>\n",
       "      <th>Book_Stock</th>\n",
       "      <th>Book_Rating</th>\n",
       "    </tr>\n",
       "  </thead>\n",
       "  <tbody>\n",
       "    <tr>\n",
       "      <th>0</th>\n",
       "      <td>It's Only the Himalayas</td>\n",
       "      <td>Travel</td>\n",
       "      <td>£45.17</td>\n",
       "      <td>In stock (19 available)</td>\n",
       "      <td>Two</td>\n",
       "    </tr>\n",
       "    <tr>\n",
       "      <th>1</th>\n",
       "      <td>Full Moon over Noah’s Ark: An Odyssey to Mount...</td>\n",
       "      <td>Travel</td>\n",
       "      <td>£49.43</td>\n",
       "      <td>In stock (15 available)</td>\n",
       "      <td>Four</td>\n",
       "    </tr>\n",
       "    <tr>\n",
       "      <th>2</th>\n",
       "      <td>See America: A Celebration of Our National Par...</td>\n",
       "      <td>Travel</td>\n",
       "      <td>£48.87</td>\n",
       "      <td>In stock (14 available)</td>\n",
       "      <td>Three</td>\n",
       "    </tr>\n",
       "    <tr>\n",
       "      <th>3</th>\n",
       "      <td>Vagabonding: An Uncommon Guide to the Art of L...</td>\n",
       "      <td>Travel</td>\n",
       "      <td>£36.94</td>\n",
       "      <td>In stock (8 available)</td>\n",
       "      <td>Two</td>\n",
       "    </tr>\n",
       "    <tr>\n",
       "      <th>4</th>\n",
       "      <td>Under the Tuscan Sun</td>\n",
       "      <td>Travel</td>\n",
       "      <td>£37.33</td>\n",
       "      <td>In stock (7 available)</td>\n",
       "      <td>Three</td>\n",
       "    </tr>\n",
       "  </tbody>\n",
       "</table>\n",
       "</div>"
      ],
      "text/plain": [
       "                                          Book_Title Book_Category Book_Price  \\\n",
       "0                            It's Only the Himalayas        Travel     £45.17   \n",
       "1  Full Moon over Noah’s Ark: An Odyssey to Mount...        Travel     £49.43   \n",
       "2  See America: A Celebration of Our National Par...        Travel     £48.87   \n",
       "3  Vagabonding: An Uncommon Guide to the Art of L...        Travel     £36.94   \n",
       "4                               Under the Tuscan Sun        Travel     £37.33   \n",
       "\n",
       "                Book_Stock Book_Rating  \n",
       "0  In stock (19 available)         Two  \n",
       "1  In stock (15 available)        Four  \n",
       "2  In stock (14 available)       Three  \n",
       "3   In stock (8 available)         Two  \n",
       "4   In stock (7 available)       Three  "
      ]
     },
     "execution_count": 164,
     "metadata": {},
     "output_type": "execute_result"
    }
   ],
   "source": [
    "df.head()"
   ]
  },
  {
   "cell_type": "code",
   "execution_count": 165,
   "metadata": {},
   "outputs": [
    {
     "name": "stdout",
     "output_type": "stream",
     "text": [
      "<class 'pandas.core.frame.DataFrame'>\n",
      "RangeIndex: 517 entries, 0 to 516\n",
      "Data columns (total 5 columns):\n",
      " #   Column         Non-Null Count  Dtype \n",
      "---  ------         --------------  ----- \n",
      " 0   Book_Title     517 non-null    object\n",
      " 1   Book_Category  517 non-null    object\n",
      " 2   Book_Price     517 non-null    object\n",
      " 3   Book_Stock     517 non-null    object\n",
      " 4   Book_Rating    517 non-null    object\n",
      "dtypes: object(5)\n",
      "memory usage: 20.3+ KB\n"
     ]
    }
   ],
   "source": [
    "df.info()"
   ]
  },
  {
   "cell_type": "code",
   "execution_count": 171,
   "metadata": {},
   "outputs": [
    {
     "data": {
      "text/html": [
       "<div>\n",
       "<style scoped>\n",
       "    .dataframe tbody tr th:only-of-type {\n",
       "        vertical-align: middle;\n",
       "    }\n",
       "\n",
       "    .dataframe tbody tr th {\n",
       "        vertical-align: top;\n",
       "    }\n",
       "\n",
       "    .dataframe thead th {\n",
       "        text-align: right;\n",
       "    }\n",
       "</style>\n",
       "<table border=\"1\" class=\"dataframe\">\n",
       "  <thead>\n",
       "    <tr style=\"text-align: right;\">\n",
       "      <th></th>\n",
       "      <th>Book_Title</th>\n",
       "      <th>Book_Category</th>\n",
       "      <th>Book_Price</th>\n",
       "      <th>Book_Stock</th>\n",
       "      <th>Book_Rating</th>\n",
       "      <th>Book_Stock_Numeros</th>\n",
       "    </tr>\n",
       "  </thead>\n",
       "  <tbody>\n",
       "    <tr>\n",
       "      <th>count</th>\n",
       "      <td>517</td>\n",
       "      <td>517</td>\n",
       "      <td>517</td>\n",
       "      <td>517</td>\n",
       "      <td>517</td>\n",
       "      <td>517</td>\n",
       "    </tr>\n",
       "    <tr>\n",
       "      <th>unique</th>\n",
       "      <td>516</td>\n",
       "      <td>50</td>\n",
       "      <td>497</td>\n",
       "      <td>21</td>\n",
       "      <td>5</td>\n",
       "      <td>21</td>\n",
       "    </tr>\n",
       "    <tr>\n",
       "      <th>top</th>\n",
       "      <td>The Star-Touched Queen</td>\n",
       "      <td>Childrens</td>\n",
       "      <td>44.18</td>\n",
       "      <td>In stock (16 available)</td>\n",
       "      <td>One</td>\n",
       "      <td>16</td>\n",
       "    </tr>\n",
       "    <tr>\n",
       "      <th>freq</th>\n",
       "      <td>2</td>\n",
       "      <td>20</td>\n",
       "      <td>3</td>\n",
       "      <td>83</td>\n",
       "      <td>122</td>\n",
       "      <td>83</td>\n",
       "    </tr>\n",
       "  </tbody>\n",
       "</table>\n",
       "</div>"
      ],
      "text/plain": [
       "                    Book_Title Book_Category Book_Price  \\\n",
       "count                      517           517        517   \n",
       "unique                     516            50        497   \n",
       "top     The Star-Touched Queen     Childrens      44.18   \n",
       "freq                         2            20          3   \n",
       "\n",
       "                     Book_Stock Book_Rating Book_Stock_Numeros  \n",
       "count                       517         517                517  \n",
       "unique                       21           5                 21  \n",
       "top     In stock (16 available)         One                 16  \n",
       "freq                         83         122                 83  "
      ]
     },
     "execution_count": 171,
     "metadata": {},
     "output_type": "execute_result"
    }
   ],
   "source": [
    "df.describe()"
   ]
  }
 ],
 "metadata": {
  "kernelspec": {
   "display_name": "Python 3",
   "language": "python",
   "name": "python3"
  },
  "language_info": {
   "codemirror_mode": {
    "name": "ipython",
    "version": 3
   },
   "file_extension": ".py",
   "mimetype": "text/x-python",
   "name": "python",
   "nbconvert_exporter": "python",
   "pygments_lexer": "ipython3",
   "version": "3.12.3"
  }
 },
 "nbformat": 4,
 "nbformat_minor": 2
}
